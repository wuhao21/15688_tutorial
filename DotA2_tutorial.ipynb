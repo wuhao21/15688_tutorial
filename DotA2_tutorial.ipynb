{
 "cells": [
  {
   "cell_type": "markdown",
   "metadata": {},
   "source": [
    "## Introduction\n",
    "\n",
    "This tutorial will introduce the [Valve's Dota 2 API](https://wiki.teamfortress.com/wiki/WebAPI#Dota_2) and several methods to anaylze a Dota 2 match and a Dota 2 player.\n",
    "\n",
    "[Dota 2](http://www.dota2.com/play/) is a multiplayer online battle arena ([MOBA](https://en.wikipedia.org/wiki/Multiplayer_online_battle_arena)) video game developed and published by Valve Corporation. Dota 2 is played in matches between two teams of five players, with each team occupying and defending their own separate base on the map. Each of the ten players independently controls a powerful character, known as a \"hero\", who all have unique abilities and differing styles of play.\n",
    "\n",
    "According to Valve, there are more than 1,000,000 active Dota 2 players in the world and huge amount of mathes being played everyday. Many Dota 2 professional teams are competing with each others in for huge bonus and honor. For instance, the sixth [Dota 2 TI](https://en.wikipedia.org/wiki/The_International_%28Dota_2%29) had a overall prize pool of over $20 million. By analyzing the Dota 2 match data, we could evaluate the performance of each player. We could find the most valuable player in the winning team and drawbacks of losing teams. In this way, players and probfessional teams are able to improve their skills efficiently. Moverover, by analyzing the hero preference of players, we could design specific team formation against our opponents."
   ]
  },
  {
   "cell_type": "markdown",
   "metadata": {},
   "source": [
    "### Tutorial content\n",
    "In this tutorial, we will first introduce [Dota 2 APIs](#Work-with-Dota-2-APIs) and show how to collect data of:\n",
    "- [Hero information](#Collect-hero-information)\n",
    "- Single Dota2 match\n",
    "- Match history of a player\n",
    "\n",
    "Also, we will cover following analyzing method:\n",
    "- [Analyze a match: Who is MVP?](#Analyze-a-match:-Who-is-MVP?)\n",
    "- [Analyze a player: Top records](#Analyze-a-player:-Top-records)\n",
    "- [Analyze a player: Radar chart](#Analyze-a-player:-Radar-chart)"
   ]
  },
  {
   "cell_type": "markdown",
   "metadata": {},
   "source": [
    "## Work with Dota 2 APIs"
   ]
  },
  {
   "cell_type": "markdown",
   "metadata": {},
   "source": [
    "### Installing the libraries\n",
    "\n",
    "We are going to use the similar libraries as when we are dealing with Yelp APIs in assginment 1. The only new library you need to install is [tqdm](https://pypi.python.org/pypi/tqdm). It is a easy-to-use progress meter for python script. Since the response time of Dota 2 APIs is relatively long, tqdm could let us know the exact progress and estimated running time. You can install it using `pip`:\n",
    "\n",
    "    $ pip install --upgrade tqdm\n",
    "    \n",
    "After you finished the installation, please make sure the following commands are workable:"
   ]
  },
  {
   "cell_type": "code",
   "execution_count": 1,
   "metadata": {
    "collapsed": true
   },
   "outputs": [],
   "source": [
    "import json\n",
    "import requests\n",
    "import numpy as np\n",
    "import time, datetime\n",
    "from tqdm import tqdm\n",
    "import matplotlib\n",
    "import matplotlib.pyplot as plt"
   ]
  },
  {
   "cell_type": "markdown",
   "metadata": {},
   "source": [
    "### Getting an API Key\n",
    "\n",
    "First of all, you need to apply for an API key from [Valve](https://steamcommunity.com/dev/apikey). Please register a steam account if you don't have one. \n",
    "\n",
    "We would store the key in a file called `api_key.txt` (run in terminal):\n",
    "```bash\n",
    "echo 'DOTA2_API_KEY' > api_key.txt\n",
    "```\n",
    "\n",
    "Then, by <cite>the following function (cited from 15688 assignment 1)</cite>, we could read in the key to authenticate with the API."
   ]
  },
  {
   "cell_type": "code",
   "execution_count": 2,
   "metadata": {
    "collapsed": true
   },
   "outputs": [],
   "source": [
    "def read_api_key(filepath):\n",
    "    with open('api_key.txt', 'r') as f:\n",
    "        return f.read().replace('\\n','')"
   ]
  },
  {
   "cell_type": "markdown",
   "metadata": {},
   "source": [
    "## Collect hero information"
   ]
  },
  {
   "cell_type": "code",
   "execution_count": 3,
   "metadata": {
    "collapsed": true
   },
   "outputs": [],
   "source": [
    "def get_heroes(api_key):\n",
    "    portrait_url_base = 'http://cdn.dota2.com/apps/dota2/images/heroes/'\n",
    "    url = 'http://api.steampowered.com/IEconDOTA2_570/GetHeroes/v1'\n",
    "    params = {\"key\" : api_key}\n",
    "    response = requests.get(url, params=params)\n",
    "    data = json.loads(response.text)['result']\n",
    "    idx = 0\n",
    "    heroid2idx = {}\n",
    "    for hero in data['heroes']:\n",
    "        heroid2idx[hero['id']] = idx\n",
    "        hero['localized_name'] = hero['name'].replace('npc_dota_hero_', '').replace('_', ' ').title()\n",
    "        hero['portrait_url'] = portrait_url_base + hero['name'].replace('npc_dota_hero_', '') + '_sb.png'\n",
    "        idx += 1\n",
    "    return (data['heroes'], heroid2idx)"
   ]
  },
  {
   "cell_type": "code",
   "execution_count": 4,
   "metadata": {
    "collapsed": true
   },
   "outputs": [],
   "source": [
    "def get_match_details(match_id, api_key):\n",
    "    url = 'http://api.steampowered.com/IDOTA2Match_570/GetMatchDetails/v001/'\n",
    "    params = {\"key\" : api_key, \"match_id\" : match_id}\n",
    "    response = requests.get(url, params=params)\n",
    "    data = json.loads(response.text)['result']\n",
    "    return data"
   ]
  },
  {
   "cell_type": "code",
   "execution_count": 5,
   "metadata": {
    "collapsed": true
   },
   "outputs": [],
   "source": [
    "def get_match_history(account_id, api_key, game_mode = 1, matches_requested = 25, start_at_match_id = None):\n",
    "    url = 'http://api.steampowered.com/IDOTA2Match_570/GetMatchHistory/v001/'\n",
    "    params = {\"key\" : api_key, \\\n",
    "              \"account_id\" : account_id, \\\n",
    "              \"game_mode\" : game_mode, \\\n",
    "              \"matches_requested\" : matches_requested}\n",
    "    if (start_at_match_id != None):\n",
    "        params['start_at_match_id'] = start_at_match_id\n",
    "    response = requests.get(url, params=params)\n",
    "    data = json.loads(response.text)['result']\n",
    "    return data"
   ]
  },
  {
   "cell_type": "code",
   "execution_count": 6,
   "metadata": {
    "collapsed": true
   },
   "outputs": [],
   "source": [
    "api_key = read_api_key('api_key.txt')\n",
    "match_id = '3777928249'\n",
    "my_account_id = '141393206'\n",
    "heroes, heroid2idx = get_heroes(api_key)\n",
    "#print(get_match_details(match_id, api_key))"
   ]
  },
  {
   "cell_type": "code",
   "execution_count": 7,
   "metadata": {
    "collapsed": true
   },
   "outputs": [],
   "source": [
    "from IPython.display import Markdown, display\n",
    "def printmd(string):\n",
    "    display(Markdown(string))\n",
    "def get_png_md(png_url):\n",
    "    return '![](%s?raw=true)'%png_url"
   ]
  },
  {
   "cell_type": "code",
   "execution_count": 8,
   "metadata": {
    "collapsed": true
   },
   "outputs": [],
   "source": [
    "def process_match(data):\n",
    "    cnt = 0\n",
    "    total_hero_damage = [0, 0]\n",
    "    total_kill = [0, 0]\n",
    "    total_gold = [0, 0]\n",
    "    total_tower_damage = [0, 0]\n",
    "    for player in data['players']:\n",
    "        cnt += 1\n",
    "        player['overall_gold'] = player['gold']+player['gold_spent']\n",
    "        if (cnt <= 5):\n",
    "            player['camp'] = 0\n",
    "            total_hero_damage[0] += player['hero_damage']\n",
    "            total_kill[0] += player['kills']\n",
    "            total_gold[0] += player['overall_gold']\n",
    "        else:\n",
    "            player['camp'] = 1\n",
    "            total_hero_damage[1] += player['hero_damage']\n",
    "            total_kill[1] += player['kills']\n",
    "            total_gold[1] += player['overall_gold']\n",
    "    for player in data['players']:\n",
    "        camp = player['camp']\n",
    "        player['KDA'] = (player['kills']+player['assists'])/(player['deaths']+1.0)\n",
    "        if (total_hero_damage[camp] == 0):\n",
    "            player['hero_damage_per'] = 0.0\n",
    "        else:\n",
    "            player['hero_damage_per'] = player['hero_damage']/(total_hero_damage[camp]*1.0)*100.0\n",
    "        if (total_kill[camp] == 0):\n",
    "            player['in_battle_per'] = 0.0\n",
    "        else:\n",
    "            player['in_battle_per'] = (player['kills']+player['assists'])/(total_kill[camp]*1.0)*100.0\n",
    "        player['gold_per'] = player['overall_gold']/(total_gold[camp]*1.0)*100.0\n",
    "    return data"
   ]
  },
  {
   "cell_type": "code",
   "execution_count": 9,
   "metadata": {},
   "outputs": [
    {
     "data": {
      "text/markdown": [
       "## Match Detail\n",
       "\n",
       "- MatchID: 3777836789\n",
       "- Start Time: 2018-03-12 15:21:34\n",
       "- Duration: 54 min\n",
       "***\n",
       "### Radient\n",
       "\n",
       "Players|Heroes|KDA|Last Hits/Denies|Tower Damage|Hero Healing|In Battle %|Damage %|Gold %|MVP|\n",
       ":-|:-|:-|:-|:-|:-|:-|:-|:-|:-|\n",
       "136383633|![](http://cdn.dota2.com/apps/dota2/images/heroes/phantom_assassin_sb.png?raw=true)**lvl 25**|**5.0**(29/8/16)|520/18|4803|0|83.3%|37.6%|38.1%|1.0|\n",
       "141393206|![](http://cdn.dota2.com/apps/dota2/images/heroes/bristleback_sb.png?raw=true)**lvl 25**|**1.9**(11/13/16)|268/12|396|0|50.0%|18.3%|21.7%|0.8|\n",
       "142099634|![](http://cdn.dota2.com/apps/dota2/images/heroes/vengefulspirit_sb.png?raw=true)**lvl 24**|**2.3**(2/11/26)|53/7|188|0|51.9%|8.7%|12.0%|0.7|\n",
       "134202447|![](http://cdn.dota2.com/apps/dota2/images/heroes/zuus_sb.png?raw=true)**lvl 25**|**3.4**(9/10/28)|174/4|250|80|68.5%|30.5%|13.4%|2.3|\n",
       "136312013|![](http://cdn.dota2.com/apps/dota2/images/heroes/legion_commander_sb.png?raw=true)**lvl 23**|**0.9**(3/13/10)|249/9|569|924|24.1%|4.9%|14.8%|0.3|\n",
       "***\n",
       "### Dire (Victory)\n",
       "\n",
       "Players|Heroes|KDA|Last Hits/Denies|Tower Damage|Hero Healing|In Battle %|Damage %|Gold %|MVP|\n",
       ":-|:-|:-|:-|:-|:-|:-|:-|:-|:-|\n",
       "58519674|![](http://cdn.dota2.com/apps/dota2/images/heroes/juggernaut_sb.png?raw=true)**lvl 25**|**5.2**(24/7/18)|374/12|8069|22728|77.8%|37.7%|32.8%|1.1|\n",
       "160999411|![](http://cdn.dota2.com/apps/dota2/images/heroes/dark_willow_sb.png?raw=true)**lvl 25**|**3.2**(11/12/30)|49/2|1319|0|75.9%|17.0%|16.5%|1.0|\n",
       "119448368|![](http://cdn.dota2.com/apps/dota2/images/heroes/pudge_sb.png?raw=true)**lvl 22**|**2.5**(4/10/24)|23/0|838|1682|51.9%|10.7%|12.8%|0.8|\n",
       "89702175|![](http://cdn.dota2.com/apps/dota2/images/heroes/undying_sb.png?raw=true)**lvl 25**|**1.9**(5/18/31)|96/1|808|1282|66.7%|12.1%|12.4%|1.0|\n",
       "205436003|![](http://cdn.dota2.com/apps/dota2/images/heroes/obsidian_destroyer_sb.png?raw=true)**lvl 25**|**4.4**(10/7/25)|343/18|3438|0|64.8%|22.5%|25.6%|0.9|\n"
      ],
      "text/plain": [
       "<IPython.core.display.Markdown object>"
      ]
     },
     "metadata": {},
     "output_type": "display_data"
    }
   ],
   "source": [
    "def show_match(data):\n",
    "    cols = 'Players|Heroes|KDA|Last Hits/Denies|Tower Damage|Hero Healing|In Battle %|Damage %|Gold %|MVP|\\n'\\\n",
    "           ':-|:-|:-|:-|:-|:-|:-|:-|:-|:-|\\n'\n",
    "    fmat = '%s|%s**lvl %d**|**%.1f**(%d/%d/%d)|%d/%d|%d|%d|%.1f%%|%.1f%%|%.1f%%|%.1f|\\n'\n",
    "    if (data['radiant_win']):\n",
    "        radiant_res = ' (Victory)'\n",
    "        dire_res = ''\n",
    "    else:\n",
    "        radiant_res = ''\n",
    "        dire_res = ' (Victory)'\n",
    "    md = '## Match Detail\\n\\n'\n",
    "    md += '- MatchID: %s\\n'%data['match_id']\n",
    "    md += '- Start Time: %s\\n'%\\\n",
    "            (datetime.datetime.fromtimestamp(int(data['start_time'])).strftime('%Y-%m-%d %H:%M:%S'))\n",
    "    md += '- Duration: %d min\\n'%(int(data['duration'])//60)\n",
    "    md += '***\\n'\n",
    "    md += '### Radient%s\\n\\n'%radiant_res\n",
    "    md += cols\n",
    "    cnt = 0\n",
    "    for player in data['players']:\n",
    "        md += fmat%(player['account_id'], \\\n",
    "                    get_png_md(heroes[heroid2idx[player['hero_id']]]['portrait_url']), \\\n",
    "                    player['level'], \\\n",
    "                    player['KDA'], \\\n",
    "                    player['kills'], \\\n",
    "                    player['deaths'], \\\n",
    "                    player['assists'], \\\n",
    "                    player['last_hits'], \\\n",
    "                    player['denies'], \\\n",
    "                    player['tower_damage'], \\\n",
    "                    player['hero_healing'], \\\n",
    "                    player['in_battle_per'], \\\n",
    "                    player['hero_damage_per'], \\\n",
    "                    player['gold_per'], \\\n",
    "                    player['hero_damage_per']/player['gold_per'])\n",
    "        cnt += 1\n",
    "        if (cnt == 5):\n",
    "            md += '***\\n### Dire%s\\n\\n'%dire_res\n",
    "            md += cols\n",
    "    printmd(md)\n",
    "#print(process_match(get_match_details(3777836789, api_key)))\n",
    "show_match(process_match(get_match_details(3777836789, api_key)))"
   ]
  },
  {
   "cell_type": "markdown",
   "metadata": {},
   "source": [
    "## Visualize a match"
   ]
  },
  {
   "cell_type": "markdown",
   "metadata": {},
   "source": [
    "## Analyze a match: Who is MVP?"
   ]
  },
  {
   "cell_type": "markdown",
   "metadata": {},
   "source": [
    "## Analyze a player: Top records"
   ]
  },
  {
   "cell_type": "code",
   "execution_count": 10,
   "metadata": {
    "collapsed": true
   },
   "outputs": [],
   "source": [
    "def get_all_match_history(account_id, api_key, game_mode):\n",
    "    matches = []\n",
    "    last_match = None\n",
    "    results_remaining = 100\n",
    "    while results_remaining != 0:\n",
    "        time.sleep(1)\n",
    "        if (last_match == None):\n",
    "            data = get_match_history(account_id, api_key, game_mode, matches_requested = 100)\n",
    "        else:\n",
    "            data = get_match_history(account_id, api_key, game_mode, \\\n",
    "                                     matches_requested = 100, \\\n",
    "                                     start_at_match_id = last_match)\n",
    "        results_remaining = data['results_remaining']\n",
    "        if (matches != []):\n",
    "            matches = matches[:-1]+data['matches']\n",
    "        else:\n",
    "            matches = data['matches']\n",
    "        last_match = matches[-1]['match_id']\n",
    "    return matches"
   ]
  },
  {
   "cell_type": "code",
   "execution_count": 11,
   "metadata": {
    "collapsed": true
   },
   "outputs": [],
   "source": [
    "def get_all_match_history_detail(hist, api_key):\n",
    "    hist_details = []\n",
    "    for i in tqdm(range(len(hist))):\n",
    "        match = hist[i]\n",
    "        hist_details += [process_match(get_match_details(match['match_id'], api_key))]\n",
    "    return hist_details"
   ]
  },
  {
   "cell_type": "code",
   "execution_count": 12,
   "metadata": {
    "collapsed": true
   },
   "outputs": [],
   "source": [
    "my_hist = get_all_match_history(my_account_id, api_key, game_mode = 1)"
   ]
  },
  {
   "cell_type": "code",
   "execution_count": 13,
   "metadata": {},
   "outputs": [
    {
     "name": "stderr",
     "output_type": "stream",
     "text": [
      "100%|██████████| 500/500 [04:13<00:00,  1.97it/s]\n"
     ]
    }
   ],
   "source": [
    "my_hist_detail = get_all_match_history_detail(my_hist, api_key)"
   ]
  },
  {
   "cell_type": "code",
   "execution_count": 14,
   "metadata": {},
   "outputs": [
    {
     "name": "stdout",
     "output_type": "stream",
     "text": [
      "Antimage:5\n",
      "Axe:5\n",
      "Bloodseeker:8\n",
      "Crystal Maiden:3\n",
      "Drow Ranger:11\n",
      "Earthshaker:2\n",
      "Juggernaut:34\n",
      "Mirana:26\n",
      "Nevermore:21\n",
      "Morphling:3\n",
      "Pudge:22\n",
      "Razor:1\n",
      "Sand King:6\n",
      "Storm Spirit:3\n",
      "Sven:6\n",
      "Tiny:3\n",
      "Vengefulspirit:4\n",
      "Windrunner:4\n",
      "Zuus:10\n",
      "Kunkka:2\n",
      "Lina:3\n",
      "Lich:2\n",
      "Lion:2\n",
      "Shadow Shaman:1\n",
      "Slardar:11\n",
      "Tidehunter:2\n",
      "Witch Doctor:3\n",
      "Riki:2\n",
      "Enigma:2\n",
      "Tinker:5\n",
      "Sniper:10\n",
      "Necrolyte:2\n",
      "Warlock:8\n",
      "Queenofpain:7\n",
      "Venomancer:1\n",
      "Faceless Void:6\n",
      "Skeleton King:3\n",
      "Death Prophet:2\n",
      "Phantom Assassin:4\n",
      "Pugna:2\n",
      "Templar Assassin:1\n",
      "Viper:3\n",
      "Luna:17\n",
      "Dragon Knight:1\n",
      "Dazzle:3\n",
      "Rattletrap:1\n",
      "Leshrac:1\n",
      "Furion:1\n",
      "Life Stealer:14\n",
      "Dark Seer:1\n",
      "Clinkz:2\n",
      "Omniknight:2\n",
      "Huskar:4\n",
      "Night Stalker:1\n",
      "Bounty Hunter:3\n",
      "Weaver:5\n",
      "Jakiro:3\n",
      "Spectre:5\n",
      "Doom Bringer:2\n",
      "Ursa:14\n",
      "Spirit Breaker:4\n",
      "Alchemist:6\n",
      "Invoker:3\n",
      "Silencer:4\n",
      "Obsidian Destroyer:1\n",
      "Lycan:1\n",
      "Shadow Demon:1\n",
      "Chaos Knight:1\n",
      "Treant:2\n",
      "Ogre Magi:3\n",
      "Undying:1\n",
      "Rubick:18\n",
      "Disruptor:3\n",
      "Nyx Assassin:10\n",
      "Keeper Of The Light:3\n",
      "Slark:14\n",
      "Troll Warlord:14\n",
      "Centaur:1\n",
      "Magnataur:4\n",
      "Shredder:11\n",
      "Bristleback:2\n",
      "Tusk:2\n",
      "Skywrath Mage:1\n",
      "Abaddon:2\n",
      "Elder Titan:1\n",
      "Legion Commander:16\n",
      "Ember Spirit:11\n",
      "Terrorblade:5\n",
      "Phoenix:2\n",
      "Oracle:2\n",
      "Arc Warden:1\n",
      "Abyssal Underlord:3\n",
      "Monkey King:5\n",
      "Pangolier:1\n"
     ]
    }
   ],
   "source": [
    "def fav_heroes(hist_detail, account_id):\n",
    "    counter = {}\n",
    "    for hero in heroes:\n",
    "        #cnt, win, kill, death, assist, kda\n",
    "        counter[hero['id']] = {'cnt' : 0, \\\n",
    "                               'win' : 0, \\\n",
    "                               'kills' : 0, \\\n",
    "                               'deaths' : 0, \\\n",
    "                               'assists' : 0, \\\n",
    "                               'KDA' : 0.0, \\\n",
    "                               'GPM' : 0, \\\n",
    "                               'XPM' : 0}\n",
    "    for match_detail in hist_detail:\n",
    "        for player in match_detail['players']:\n",
    "            if (str(player['account_id']) == str(account_id)):\n",
    "                counter[player['hero_id']]['cnt'] += 1\n",
    "                counter[player['hero_id']]['win'] += player['camp'] ^ match_detail['radiant_win']\n",
    "                counter[player['hero_id']]['kills'] += player['kills']\n",
    "                counter[player['hero_id']]['deaths'] += player['deaths']\n",
    "                counter[player['hero_id']]['assists'] += player['assists']\n",
    "                counter[player['hero_id']]['KDA'] += player['KDA']\n",
    "                counter[player['hero_id']]['GPM'] += player['gold_per_min']\n",
    "                counter[player['hero_id']]['XPM'] += player['xp_per_min']\n",
    "    for hero in heroes:\n",
    "        if (counter[hero['id']]['cnt'] != 0):\n",
    "            print(\"%s:%d\"%(hero['localized_name'], counter[hero['id']]['cnt']))\n",
    "    return counter\n",
    "counter = fav_heroes(my_hist_detail, my_account_id)"
   ]
  },
  {
   "cell_type": "code",
   "execution_count": 15,
   "metadata": {},
   "outputs": [
    {
     "data": {
      "text/markdown": [
       "### Most Played Heroes\n",
       "\n",
       "Heroes|Match Played|Win Rate|KDA(K/D/A)|Avg. KDA|Avg. GPM|Avg. XPM|\n",
       ":-|:-|:-|:-|:-|:-|:-|\n",
       "![](http://cdn.dota2.com/apps/dota2/images/heroes/juggernaut_sb.png?raw=true)|34|64.7%|**5.2**(10.6/4.5/12.6)|5.7|579.0|596.6|\n",
       "![](http://cdn.dota2.com/apps/dota2/images/heroes/mirana_sb.png?raw=true)|26|65.4%|**5.0**(8.9/4.7/14.8)|5.8|485.2|505.8|\n",
       "![](http://cdn.dota2.com/apps/dota2/images/heroes/pudge_sb.png?raw=true)|22|68.2%|**3.0**(6.0/7.5/16.4)|2.9|395.7|476.2|\n",
       "![](http://cdn.dota2.com/apps/dota2/images/heroes/nevermore_sb.png?raw=true)|21|81.0%|**4.8**(9.7/4.1/10.5)|7.0|595.9|600.0|\n",
       "![](http://cdn.dota2.com/apps/dota2/images/heroes/rubick_sb.png?raw=true)|18|38.9%|**2.4**(2.9/6.6/12.9)|3.1|326.4|331.8|\n",
       "![](http://cdn.dota2.com/apps/dota2/images/heroes/luna_sb.png?raw=true)|17|58.8%|**3.7**(7.3/5.5/13.4)|4.0|589.1|568.4|\n",
       "![](http://cdn.dota2.com/apps/dota2/images/heroes/legion_commander_sb.png?raw=true)|16|68.8%|**3.4**(7.6/5.4/10.8)|3.5|458.2|499.0|\n",
       "![](http://cdn.dota2.com/apps/dota2/images/heroes/life_stealer_sb.png?raw=true)|14|64.3%|**4.9**(10.9/4.8/13.1)|5.1|549.4|572.6|\n",
       "![](http://cdn.dota2.com/apps/dota2/images/heroes/ursa_sb.png?raw=true)|14|50.0%|**3.9**(13.6/6.9/13.7)|5.6|518.0|554.2|\n",
       "![](http://cdn.dota2.com/apps/dota2/images/heroes/slark_sb.png?raw=true)|14|57.1%|**4.3**(9.4/4.6/10.9)|4.5|502.0|542.4|\n"
      ],
      "text/plain": [
       "<IPython.core.display.Markdown object>"
      ]
     },
     "metadata": {},
     "output_type": "display_data"
    }
   ],
   "source": [
    "def show_fav_list(counter, topN = 10):\n",
    "    fav_list = sorted(counter.items(), key=lambda x:-x[1]['cnt'])\n",
    "    cols = 'Heroes|Match Played|Win Rate|KDA(K/D/A)|Avg. KDA|Avg. GPM|Avg. XPM|\\n'\\\n",
    "           ':-|:-|:-|:-|:-|:-|:-|\\n'\n",
    "    fmat = '%s|%d|%.1f%%|**%.1f**(%.1f/%.1f/%.1f)|%.1f|%.1f|%.1f|\\n'\n",
    "    if (topN > len(counter)):\n",
    "        topN = len(counter)\n",
    "    md = ''\n",
    "    md += '### Most Played Heroes\\n\\n'\n",
    "    md += cols\n",
    "    for idx in range(topN):\n",
    "        md += fmat%(get_png_md(heroes[heroid2idx[fav_list[idx][0]]]['portrait_url']), \\\n",
    "                    fav_list[idx][1]['cnt'], \\\n",
    "                    fav_list[idx][1]['win']/(fav_list[idx][1]['cnt']*1.0)*100.0, \\\n",
    "                    (fav_list[idx][1]['kills']+fav_list[idx][1]['assists'])/(fav_list[idx][1]['deaths']+1.0), \\\n",
    "                    fav_list[idx][1]['kills']/(fav_list[idx][1]['cnt']*1.0), \\\n",
    "                    fav_list[idx][1]['deaths']/(fav_list[idx][1]['cnt']*1.0), \\\n",
    "                    fav_list[idx][1]['assists']/(fav_list[idx][1]['cnt']*1.0), \\\n",
    "                    fav_list[idx][1]['KDA']/(fav_list[idx][1]['cnt']*1.0), \\\n",
    "                    fav_list[idx][1]['GPM']/(fav_list[idx][1]['cnt']*1.0), \\\n",
    "                    fav_list[idx][1]['XPM']/(fav_list[idx][1]['cnt']*1.0))\n",
    "    printmd(md)\n",
    "show_fav_list(counter)"
   ]
  },
  {
   "cell_type": "code",
   "execution_count": 17,
   "metadata": {},
   "outputs": [
    {
     "data": {
      "text/markdown": [
       "### Juggernaut\n",
       "![](http://cdn.dota2.com/apps/dota2/images/heroes/juggernaut_sb.png?raw=true)\n",
       "### User:141393206\n"
      ],
      "text/plain": [
       "<IPython.core.display.Markdown object>"
      ]
     },
     "metadata": {},
     "output_type": "display_data"
    }
   ],
   "source": [
    "def show_hero_trend(hist_detail, hero_id, account_id):\n",
    "    printmd('### %s\\n'%(heroes[heroid2idx[hero_id]]['localized_name'])+\\\n",
    "            get_png_md(heroes[heroid2idx[hero_id]]['portrait_url'])+\\\n",
    "            '\\n### User:%s\\n'%account_id)\n",
    "    x = []\n",
    "    KDA = []\n",
    "    GPM = []\n",
    "    XPM = []\n",
    "    for match_detail in hist_detail:\n",
    "        for player in match_detail['players']:\n",
    "            if str(player['account_id']) == str(account_id) and str(player['hero_id']) == str(hero_id):\n",
    "                x += [datetime.datetime.fromtimestamp(int(match_detail['start_time']))]\n",
    "                KDA += [player['KDA']]\n",
    "                GPM += [player['gold_per_min']]\n",
    "                XPM += [player['xp_per_min']]\n",
    "    plt.figure(1)\n",
    "    plt.xlabel('Date')\n",
    "    plt.ylabel('KDA')\n",
    "    plt.title('KDA Trend of %s'%(heroes[heroid2idx[hero_id]]['localized_name']))\n",
    "    plt.plot(x, KDA, 'ko:')\n",
    "    \n",
    "    plt.figure(2)\n",
    "    plt.xlabel('Date')\n",
    "    plt.ylabel('GPM/XPM')\n",
    "    plt.title('GPM/XPM Trend of %s'%(heroes[heroid2idx[hero_id]]['localized_name']))\n",
    "    plt.plot(x, GPM, x, XPM, 'x:')\n",
    "    plt.legend(['GPM', 'XPM'], loc='upper left')\n",
    "    \n",
    "show_hero_trend(my_hist_detail, 8, my_account_id)"
   ]
  },
  {
   "cell_type": "markdown",
   "metadata": {},
   "source": [
    "## Analyze a player: Radar chart"
   ]
  },
  {
   "cell_type": "markdown",
   "metadata": {},
   "source": [
    "## Summary and references\n",
    "\n",
    "1.\n",
    "\n",
    "2."
   ]
  },
  {
   "cell_type": "code",
   "execution_count": null,
   "metadata": {},
   "outputs": [],
   "source": []
  },
  {
   "cell_type": "code",
   "execution_count": null,
   "metadata": {},
   "outputs": [],
   "source": []
  },
  {
   "cell_type": "code",
   "execution_count": null,
   "metadata": {
    "collapsed": true
   },
   "outputs": [],
   "source": []
  },
  {
   "cell_type": "code",
   "execution_count": null,
   "metadata": {
    "collapsed": true
   },
   "outputs": [],
   "source": []
  }
 ],
 "metadata": {
  "kernelspec": {
   "display_name": "Python 3",
   "language": "python",
   "name": "python3"
  },
  "language_info": {
   "codemirror_mode": {
    "name": "ipython",
    "version": 3
   },
   "file_extension": ".py",
   "mimetype": "text/x-python",
   "name": "python",
   "nbconvert_exporter": "python",
   "pygments_lexer": "ipython3",
   "version": "3.6.3"
  }
 },
 "nbformat": 4,
 "nbformat_minor": 2
}
