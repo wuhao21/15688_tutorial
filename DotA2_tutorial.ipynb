{
 "cells": [
  {
   "cell_type": "markdown",
   "metadata": {},
   "source": [
    "## Introduction\n",
    "\n",
    "This tutorial will introduce the [Valve's Dota 2 API](https://wiki.teamfortress.com/wiki/WebAPI#Dota_2) and several methods to anaylze a Dota 2 match and a Dota 2 player.\n",
    "\n",
    "[Dota 2](http://www.dota2.com/play/) is a multiplayer online battle arena ([MOBA](https://en.wikipedia.org/wiki/Multiplayer_online_battle_arena)) video game developed and published by Valve Corporation. Dota 2 is played in matches between two teams of five players, with each team occupying and defending their own separate base on the map. Each of the ten players independently controls a powerful character, known as a \"hero\", who all have unique abilities and differing styles of play.\n",
    "\n",
    "According to Valve, there are more than 1,000,000 active Dota 2 players in the world and huge amount of mathes being played everyday. Many Dota 2 professional teams are competing with each others in for huge bonus and honor. For instance, the sixth [Dota 2 TI](https://en.wikipedia.org/wiki/The_International_%28Dota_2%29) had a overall prize pool of over $20 million. By analyzing the Dota 2 match data, we could evaluate the performance of each player. We could find the most valuable player in the winning team and drawbacks of losing teams. In this way, players and probfessional teams are able to improve their skills efficiently. Moverover, by analyzing the hero preference of players, we could design specific team formation against our opponents."
   ]
  },
  {
   "cell_type": "markdown",
   "metadata": {},
   "source": [
    "### Tutorial content\n",
    "In this tutorial, we will first introduce [Dota 2 APIs](#Work-with-Dota-2-APIs) and show how to collect data of:\n",
    "- [Hero information](#Collecting-hero-information)\n",
    "- [a Dota2 match](#Collecting-data-of-a-Dota2-match)\n",
    "- [Match history of a player](#Collecting-match-history-of-a-player)\n",
    "\n",
    "Also, we will cover following analyzing method:\n",
    "- [Analyze a match: Who is MVP?](#Analyze-a-match:-Who-is-MVP?)\n",
    "- [Analyze a player: Favourite Heroes](#Analyze-a-player:-Favourite-Heroes)"
   ]
  },
  {
   "cell_type": "markdown",
   "metadata": {},
   "source": [
    "## Work with Dota 2 APIs"
   ]
  },
  {
   "cell_type": "markdown",
   "metadata": {},
   "source": [
    "### Installing the libraries\n",
    "\n",
    "We are going to use the similar libraries as when we are dealing with Yelp APIs in assginment 1. The only new library you need to install is [tqdm](https://pypi.python.org/pypi/tqdm). It is a easy-to-use progress meter for python script. Since the response time of Dota 2 APIs is relatively long, tqdm could let us know the exact progress and estimated running time. You can install it using `pip`:\n",
    "\n",
    "    $ pip install --upgrade tqdm\n",
    "    \n",
    "After you finished the installation, please make sure the following commands are workable:"
   ]
  },
  {
   "cell_type": "code",
   "execution_count": 2,
   "metadata": {
    "collapsed": true
   },
   "outputs": [],
   "source": [
    "import json\n",
    "import requests\n",
    "import numpy as np\n",
    "import time, datetime\n",
    "from tqdm import tqdm\n",
    "import matplotlib\n",
    "import matplotlib.pyplot as plt"
   ]
  },
  {
   "cell_type": "markdown",
   "metadata": {},
   "source": [
    "### Getting an API Key\n",
    "\n",
    "First of all, you need to apply for an API key from [Valve](https://steamcommunity.com/dev/apikey). Please register a steam account if you don't have one. \n",
    "\n",
    "We would store the key in a file called `api_key.txt` (run in terminal):\n",
    "```bash\n",
    "echo 'DOTA2_API_KEY' > api_key.txt\n",
    "```\n",
    "\n",
    "Then, by <cite>the following function (cited from 15688 assignment 1)</cite>, we could read in the key to authenticate with the API by adding it into the request parameters."
   ]
  },
  {
   "cell_type": "code",
   "execution_count": 3,
   "metadata": {
    "collapsed": true
   },
   "outputs": [],
   "source": [
    "def read_api_key(filepath):\n",
    "    with open('api_key.txt', 'r') as f:\n",
    "        return f.read().replace('\\n','')"
   ]
  },
  {
   "cell_type": "code",
   "execution_count": 4,
   "metadata": {
    "collapsed": true
   },
   "outputs": [],
   "source": [
    "api_key = read_api_key('api_key.txt')"
   ]
  },
  {
   "cell_type": "markdown",
   "metadata": {},
   "source": [
    "## Collecting hero information\n",
    "\n",
    "Using [`WebAPI/GetHeroes`](https://wiki.teamfortress.com/wiki/WebAPI/GetHeroes), we could get the list of heroes in json format:\n",
    "```python\n",
    "{\n",
    "    'result' :\n",
    "    {\n",
    "        'heroes' : #List of heroes\n",
    "        'name' : #The tokenized string for the name of the hero\n",
    "        'id' : #ID of the hero\n",
    "        'localized_name' : #The localized name of the hero for use in name display\n",
    "        'count' : #Number of results\n",
    "    }\n",
    "}\n",
    "```\n",
    "In the following function, we will:\n",
    "1. download the json data.\n",
    "2. generate mapping from hero id to list index since they are not the same. ( ```hereos[8]['hero_id']``` may not equal to 8 )\n",
    "3. add the ```portrait_url``` field which contains the url to the png of hero portraits. We can use these portraits later to make the visualization more effective.\n",
    "\n",
    "Originally, the hero name is like `npc_dota_hero_[name]`. For example, the given name of hero Anti-Mage is `npc_dota_hero_antimage`. Correspondingly, the url of its small portrait is http://cdn.dota2.com/apps/dota2/images/heroes/antimage_sb.png. Therefore, we need to cut `npc_dota_hero_` from the given name in the json file and build up the url.\n",
    "\n",
    "`get_heroes` will return the processed hero list and hero-id-to-index mapping dictionary at the same time."
   ]
  },
  {
   "cell_type": "code",
   "execution_count": 41,
   "metadata": {
    "collapsed": true
   },
   "outputs": [],
   "source": [
    "def get_heroes(api_key):\n",
    "    portrait_url_base = 'http://cdn.dota2.com/apps/dota2/images/heroes/'\n",
    "    url = 'http://api.steampowered.com/IEconDOTA2_570/GetHeroes/v1'\n",
    "    params = {\"key\" : api_key, 'language' : 'en'}\n",
    "    response = requests.get(url, params=params)\n",
    "    data = json.loads(response.text)['result']\n",
    "    idx = 0\n",
    "    heroid2idx = {}\n",
    "    for hero in data['heroes']:\n",
    "        heroid2idx[hero['id']] = idx\n",
    "        hero['portrait_url'] = portrait_url_base + hero['name'].replace('npc_dota_hero_', '') + '_sb.png'\n",
    "        idx += 1\n",
    "    return (data['heroes'], heroid2idx)"
   ]
  },
  {
   "cell_type": "code",
   "execution_count": 43,
   "metadata": {
    "collapsed": true
   },
   "outputs": [],
   "source": [
    "heroes, heroid2idx = get_heroes(api_key)"
   ]
  },
  {
   "cell_type": "markdown",
   "metadata": {},
   "source": [
    "## Collecting data of a Dota2 match\n",
    "\n",
    "Using [`WebAPI/GetMatchDetails`](https://wiki.teamfortress.com/wiki/WebAPI/GetMatchDetails), with a match id, we could get the detailed information of this Dota 2 match:\n",
    "```python\n",
    "{\n",
    "'result' :\n",
    "    {\n",
    "    'players' : #List of players in the match.\n",
    "        [{\n",
    "            'account_id' : #32-bit account ID\n",
    "            'hero_id' : #The hero's unique ID.\n",
    "            'kills' : #The amount of kills attributed to this player.\n",
    "            'deaths' : #The amount of times this player died during the match.\n",
    "            'assists' : #The amount of assists attributed to this player.\n",
    "            'gold' : #The amount of player's remaining gold at the end of the match.\n",
    "            'last_hits' : #The amount of last-hits the player got during the match.\n",
    "            'denies' : #The amount of denies the player got during the match.\n",
    "            'gold_per_min' : #The player's overall gold/minute.\n",
    "            'xp_per_min' : #The player's overall experience/minute.\n",
    "            'gold_spent' : #The amount of gold the player spent during the match.\n",
    "            'hero_damage' : #The amount of damage the player dealt to heroes.\n",
    "            'tower_damage' : #The amount of damage the player dealt to towers.\n",
    "            'hero_healing' : #The amount of health the player had healed on heroes.\n",
    "            'level' : #The player's level at match end.\n",
    "            ...\n",
    "        }],\n",
    "    'duration' : #The length of the match, in seconds since the match began.\n",
    "    'start_time' : #Unix timestamp of when the match began.\n",
    "    'match_id' : #The matches unique ID.\n",
    "    ...\n",
    "    }\n",
    "...\n",
    "}\n",
    "```\n",
    "\n",
    "I only listed the fields that we will use in later parts. Function `get_match_details` will return the `result` part of the json reponse for a given `match_id`."
   ]
  },
  {
   "cell_type": "code",
   "execution_count": 7,
   "metadata": {
    "collapsed": true
   },
   "outputs": [],
   "source": [
    "def get_match_details(match_id, api_key):\n",
    "    url = 'http://api.steampowered.com/IDOTA2Match_570/GetMatchDetails/v001/'\n",
    "    params = {\"key\" : api_key, \"match_id\" : match_id}\n",
    "    response = requests.get(url, params=params)\n",
    "    data = json.loads(response.text)['result']\n",
    "    return data"
   ]
  },
  {
   "cell_type": "code",
   "execution_count": 8,
   "metadata": {},
   "outputs": [
    {
     "name": "stdout",
     "output_type": "stream",
     "text": [
      "{'account_id': 148440518, 'player_slot': 0, 'hero_id': 89, 'item_0': 0, 'item_1': 181, 'item_2': 214, 'item_3': 36, 'item_4': 267, 'item_5': 223, 'backpack_0': 188, 'backpack_1': 0, 'backpack_2': 0, 'kills': 4, 'deaths': 9, 'assists': 14, 'leaver_status': 0, 'last_hits': 143, 'denies': 1, 'gold_per_min': 383, 'xp_per_min': 553, 'level': 24, 'hero_damage': 10203, 'tower_damage': 228, 'hero_healing': 0, 'gold': 4196, 'gold_spent': 9155, 'scaled_hero_damage': 5961, 'scaled_tower_damage': 125, 'scaled_hero_healing': 0, 'ability_upgrades': [{'ability': 5469, 'time': 440, 'level': 1}, {'ability': 5468, 'time': 573, 'level': 2}, {'ability': 5469, 'time': 719, 'level': 3}, {'ability': 5467, 'time': 924, 'level': 4}, {'ability': 5469, 'time': 1060, 'level': 5}, {'ability': 5470, 'time': 1093, 'level': 6}, {'ability': 5469, 'time': 1230, 'level': 7}, {'ability': 5467, 'time': 1411, 'level': 8}, {'ability': 5467, 'time': 1482, 'level': 9}, {'ability': 5919, 'time': 1582, 'level': 10}, {'ability': 5467, 'time': 1735, 'level': 11}, {'ability': 5470, 'time': 1853, 'level': 12}, {'ability': 5468, 'time': 1975, 'level': 13}, {'ability': 5468, 'time': 1978, 'level': 14}, {'ability': 5929, 'time': 1992, 'level': 15}, {'ability': 5468, 'time': 2302, 'level': 16}, {'ability': 5470, 'time': 2574, 'level': 17}, {'ability': 6398, 'time': 2945, 'level': 18}]}\n",
      "1520886533\n"
     ]
    }
   ],
   "source": [
    "match_id = '3777928249'\n",
    "print(get_match_details(match_id, api_key)['players'][0])\n",
    "print(get_match_details(match_id, api_key)['start_time'])"
   ]
  },
  {
   "cell_type": "markdown",
   "metadata": {},
   "source": [
    "## Collecting match history of a player\n",
    "\n",
    "Using [`WebAPI/GetMatchHistory`](https://wiki.teamfortress.com/wiki/WebAPI/GetMatchHistory), we could get match history of a player. Although there are many other options like game mode, skill level, we will only consider the general history without any parameters. The structure looks like:\n",
    "```python\n",
    "{\n",
    "'result' : \n",
    "    {\n",
    "        'matches' : #A list of matches\n",
    "        [{\n",
    "            'match_id' : #The matches unique ID\n",
    "            'players' : #The list of players within the match\n",
    "            [{\n",
    "                'account_id' : #32-bit account ID\n",
    "                'hero_id' : #The hero's unique ID\n",
    "                ...\n",
    "            }]\n",
    "            ...\n",
    "        }]\n",
    "        ...\n",
    "    }\n",
    "}\n",
    "```\n",
    "\n",
    "The maximum amount of matches we could get from this API is 100 every time, at most 500 matches. Therefore, we will need a another function to call this API repeatedly to get all history."
   ]
  },
  {
   "cell_type": "code",
   "execution_count": 9,
   "metadata": {
    "collapsed": true
   },
   "outputs": [],
   "source": [
    "def get_match_history(account_id, api_key, game_mode = 1, matches_requested = 25, start_at_match_id = None):\n",
    "    url = 'http://api.steampowered.com/IDOTA2Match_570/GetMatchHistory/v001/'\n",
    "    params = {\"key\" : api_key, \\\n",
    "              \"account_id\" : account_id, \\\n",
    "              \"game_mode\" : game_mode, \\\n",
    "              \"matches_requested\" : matches_requested}\n",
    "    if (start_at_match_id != None):\n",
    "        params['start_at_match_id'] = start_at_match_id\n",
    "    response = requests.get(url, params=params)\n",
    "    data = json.loads(response.text)['result']\n",
    "    return data\n",
    "def get_all_match_history(account_id, api_key, game_mode = 1):\n",
    "    matches = []\n",
    "    last_match = None\n",
    "    results_remaining = 100\n",
    "    while results_remaining != 0:\n",
    "        time.sleep(1)\n",
    "        if (last_match == None):\n",
    "            data = get_match_history(account_id, api_key, game_mode, matches_requested = 100)\n",
    "        else:\n",
    "            data = get_match_history(account_id, api_key, game_mode, \\\n",
    "                                     matches_requested = 100, \\\n",
    "                                     start_at_match_id = last_match)\n",
    "        results_remaining = data['results_remaining']\n",
    "        if (matches != []):\n",
    "            matches = matches[:-1]+data['matches']\n",
    "        else:\n",
    "            matches = data['matches']\n",
    "        last_match = matches[-1]['match_id']\n",
    "    return matches"
   ]
  },
  {
   "cell_type": "code",
   "execution_count": 10,
   "metadata": {},
   "outputs": [
    {
     "name": "stdout",
     "output_type": "stream",
     "text": [
      "25\n",
      "500\n"
     ]
    }
   ],
   "source": [
    "my_account_id = '141393206'\n",
    "print(len(get_match_history(my_account_id, api_key)['matches']))\n",
    "print(len(get_all_match_history(my_account_id, api_key)))"
   ]
  },
  {
   "cell_type": "markdown",
   "metadata": {},
   "source": [
    "## Analyze a match: Who is MVP?\n",
    "\n",
    "In this part, we will design a evaluating system to find who is the Most Valuable Player. First of all, I want to briefly introduce some basic mechanics of Dota 2. Most of belowing introduction are cited from [Dota 2 Wiki](https://dota2.gamepedia.com/).\n",
    "### Radiant and Dire\n",
    "\n",
    "In a Dota 2 match, 10 players are divided into two faction: **Radiant** and **Dire**. Each faction occupies a diagonal half of the map, separated in the middle by the river. The **Radiant** is based at the lower left corner of the map, while the **Dire** is based at the upper right corner. Two factions are fighting against each other to defense their ancients. (DotA = Defense of the Ancients). The Ancients are located inside strongholds at the heart of each faction's territory.\n",
    "![](https://d1u5p3l4wpay3k.cloudfront.net/dota2_gamepedia/thumb/1/18/Game_map_7.00.jpg/300px-Game_map_7.00.jpg?version=fe24062355bbafb271a204ab8f369c26?raw=true)\n",
    "\n",
    "In the players list, the first five belong to Radiant while the last five belong to Dire.\n",
    "### Gold\n",
    "\n",
    "**Gold** is the currency used to buy items or instantly revive your hero. Gold can be earned from killing heroes, creeps, or buildings. By adding `gold` and `gold_spent`, we could get the amount of player's total gold at the end of the match.\n",
    "\n",
    "### Last-hitting and Denying\n",
    "- **Last-hitting** is a technique where you (or a creep under your control) get the 'last hit' on a neutral creep, enemy lane creep, or enemy hero. The hero that dealt the killing blow to the enemy unit will be awarded a bounty.\n",
    "- **Denying** is the act of preventing enemy heroes from getting the last hit on a friendly unit by last hitting the unit oneself.\n",
    "\n",
    "### Kills, Deaths and Assists\n",
    "- **Kills** is the amount of last-hits to enemies' heroes\n",
    "- **Deaths** is the amount of last-hits to you by enemies' heroes\n",
    "- **Assist** is counted when you allied heroes within 1300 radius to kill a enemy.\n",
    "\n",
    "We usually use *KDA* ratio to evaluate the general performance of a player. It is calculated as\n",
    "    \n",
    "    KDA = (# of Kills + # of Assists) / (# of Deaths + 1)\n",
    "\n",
    "### Damage\n",
    "**Damage** is any means by which unit's current health can be reduced.\n",
    "- **Hero Damge** is the amount of damage this player had dealt to enemies' heroes\n",
    "- **Tower Damage** is the amount of damage this player had dealt to enemies' buildings including towers, shrines and etc.\n",
    "\n",
    "### Healing\n",
    "\n",
    "Increasing a unit's current health is most commonly known as **Healing** a unit. \n",
    "- **Hero Healing** is the amount of healing this player had made to alies' heroes"
   ]
  },
  {
   "cell_type": "markdown",
   "metadata": {},
   "source": [
    "------\n",
    "Now, we could design more criterias that measures players' contribution in a Dota 2 match.\n",
    "### In Battle Ratio\n",
    "In battle ratio could effectively show how each player is involved in the team kills:\n",
    "\n",
    "    In Battle Ratio = (# of Kills + # of Assists) / (# of Team Kills) * 100%\n",
    "\n",
    "### Damage Ratio\n",
    "Damage ratio could measure each player's contribution to the total damge dealt to enemies:\n",
    "    \n",
    "    Damage Ratio = (# of Hero Damage) / (# of Total Hero Damage Dealt to Enemies) * 100%\n",
    "\n",
    "### Gold Ratio\n",
    "Gold ratio could reveal how the team resources are allocated to players:\n",
    "    \n",
    "    Gold Ratio = (# of Gold Accquired) / (# of Toal Gold of Team) * 100%\n",
    "### Gold to Damage Ability\n",
    "Gold to damge ability is calculated as\n",
    "\n",
    "    Gold to Damage Ability = Damage Ratio / Gold Ratio\n",
    "    \n",
    "This value measure the ability to convert gold into damges of each players (also related to heroes, but we will not consider this factor here). Here, we could directly use this value to find the Most Valuable Player.\n",
    "\n",
    "---\n",
    "\n",
    "The `process_match` function below will read in the data of a Dota 2 match and calculate all criterias mentioned above for each player."
   ]
  },
  {
   "cell_type": "code",
   "execution_count": 16,
   "metadata": {
    "collapsed": true
   },
   "outputs": [],
   "source": [
    "def process_match(data):\n",
    "    cnt = 0\n",
    "    total_hero_damage = [0, 0]\n",
    "    total_kill = [0, 0]\n",
    "    total_gold = [0, 0]\n",
    "    total_tower_damage = [0, 0]\n",
    "    for player in data['players']:\n",
    "        cnt += 1\n",
    "        player['overall_gold'] = player['gold']+player['gold_spent']\n",
    "        if (cnt <= 5):\n",
    "            player['camp'] = 0\n",
    "            total_hero_damage[0] += player['hero_damage']\n",
    "            total_kill[0] += player['kills']\n",
    "            total_gold[0] += player['overall_gold']\n",
    "        else:\n",
    "            player['camp'] = 1\n",
    "            total_hero_damage[1] += player['hero_damage']\n",
    "            total_kill[1] += player['kills']\n",
    "            total_gold[1] += player['overall_gold']\n",
    "    for player in data['players']:\n",
    "        camp = player['camp']\n",
    "        player['KDA'] = (player['kills']+player['assists'])/(player['deaths']+1.0)\n",
    "        if (total_hero_damage[camp] == 0):\n",
    "            player['hero_damage_per'] = 0.0\n",
    "        else:\n",
    "            player['hero_damage_per'] = player['hero_damage']/(total_hero_damage[camp]*1.0)*100.0\n",
    "        if (total_kill[camp] == 0):\n",
    "            player['in_battle_per'] = 0.0\n",
    "        else:\n",
    "            player['in_battle_per'] = (player['kills']+player['assists'])/(total_kill[camp])*100.0\n",
    "        player['gold_per'] = player['overall_gold']/(total_gold[camp]*1.0)*100.0\n",
    "    return data"
   ]
  },
  {
   "cell_type": "code",
   "execution_count": 20,
   "metadata": {},
   "outputs": [
    {
     "name": "stdout",
     "output_type": "stream",
     "text": [
      "{'account_id': 136383633, 'player_slot': 0, 'hero_id': 44, 'item_0': 0, 'item_1': 208, 'item_2': 116, 'item_3': 48, 'item_4': 145, 'item_5': 0, 'backpack_0': 0, 'backpack_1': 0, 'backpack_2': 0, 'kills': 29, 'deaths': 8, 'assists': 16, 'leaver_status': 0, 'last_hits': 520, 'denies': 18, 'gold_per_min': 771, 'xp_per_min': 679, 'level': 25, 'hero_damage': 80961, 'tower_damage': 4803, 'hero_healing': 0, 'gold': 1748, 'gold_spent': 38935, 'scaled_hero_damage': 40526, 'scaled_tower_damage': 3287, 'scaled_hero_healing': 0, 'ability_upgrades': [{'ability': 5190, 'time': 372, 'level': 1}, {'ability': 5191, 'time': 417, 'level': 2}, {'ability': 5190, 'time': 483, 'level': 3}, {'ability': 5191, 'time': 574, 'level': 4}, {'ability': 5190, 'time': 678, 'level': 5}, {'ability': 5193, 'time': 771, 'level': 6}, {'ability': 5190, 'time': 871, 'level': 7}, {'ability': 5192, 'time': 937, 'level': 8}, {'ability': 5191, 'time': 1031, 'level': 9}, {'ability': 5938, 'time': 1181, 'level': 10}, {'ability': 5191, 'time': 1245, 'level': 11}, {'ability': 5193, 'time': 1302, 'level': 12}, {'ability': 5192, 'time': 1321, 'level': 13}, {'ability': 5192, 'time': 1484, 'level': 14}, {'ability': 7011, 'time': 1596, 'level': 15}, {'ability': 5192, 'time': 1635, 'level': 16}, {'ability': 5193, 'time': 1812, 'level': 17}, {'ability': 6192, 'time': 1973, 'level': 18}, {'ability': 6847, 'time': 2719, 'level': 19}], 'overall_gold': 40683, 'camp': 0, 'KDA': 5.0, 'hero_damage_per': 37.61883520588809, 'in_battle_per': 83.33333333333334, 'gold_per': 38.12089466927784}\n"
     ]
    }
   ],
   "source": [
    "processed_match = process_match(get_match_details(3777836789, api_key))\n",
    "print(processed_match['players'][0])"
   ]
  },
  {
   "cell_type": "markdown",
   "metadata": {},
   "source": [
    "### Visualization\n",
    "We will use Markdown table to visualize a match. \n",
    "\n",
    "- `printmd` function would disply a markdown script\n",
    "- `get_png_md` would generate the markdown script to display a url png\n",
    "- `show_match` would generate the markdown script to visualize a Dota 2 match\n",
    "\n",
    "`printmd` is only effective when you run the function. In static files, the displayed result would become `<IPython.core.display.Markdown object>`. Therefore, I've copy my running result (Markdown scripts) into the markdown cells which is generated by `show_match` function. Same reason for `show_fav_list`."
   ]
  },
  {
   "cell_type": "code",
   "execution_count": 22,
   "metadata": {
    "collapsed": true
   },
   "outputs": [],
   "source": [
    "from IPython.display import Markdown, display\n",
    "def printmd(string):\n",
    "    display(Markdown(string))\n",
    "def get_png_md(png_url):\n",
    "    return '![](%s?raw=true)'%png_url"
   ]
  },
  {
   "cell_type": "code",
   "execution_count": 28,
   "metadata": {},
   "outputs": [
    {
     "data": {
      "text/markdown": [
       "## Match Detail\n",
       "\n",
       "- MatchID: 3777836789\n",
       "- Start Time: 2018-03-12 15:21:34\n",
       "- Duration: 54 min\n",
       "***\n",
       "### Radiant\n",
       "\n",
       "Players|Heroes|KDA|Last Hits/Denies|Tower Damage|Hero Healing|In Battle %|Damage %|Gold %|MVP|\n",
       ":-|:-|:-|:-|:-|:-|:-|:-|:-|:-|\n",
       "136383633|![](http://cdn.dota2.com/apps/dota2/images/heroes/phantom_assassin_sb.png?raw=true)**lvl 25**|**5.0**(29/8/16)|520/18|4803|0|83.3%|37.6%|38.1%|1.0|\n",
       "141393206|![](http://cdn.dota2.com/apps/dota2/images/heroes/bristleback_sb.png?raw=true)**lvl 25**|**1.9**(11/13/16)|268/12|396|0|50.0%|18.3%|21.7%|0.8|\n",
       "142099634|![](http://cdn.dota2.com/apps/dota2/images/heroes/vengefulspirit_sb.png?raw=true)**lvl 24**|**2.3**(2/11/26)|53/7|188|0|51.9%|8.7%|12.0%|0.7|\n",
       "134202447|![](http://cdn.dota2.com/apps/dota2/images/heroes/zuus_sb.png?raw=true)**lvl 25**|**3.4**(9/10/28)|174/4|250|80|68.5%|30.5%|13.4%|2.3|\n",
       "136312013|![](http://cdn.dota2.com/apps/dota2/images/heroes/legion_commander_sb.png?raw=true)**lvl 23**|**0.9**(3/13/10)|249/9|569|924|24.1%|4.9%|14.8%|0.3|\n",
       "***\n",
       "### Dire (Victory)\n",
       "\n",
       "Players|Heroes|KDA|Last Hits/Denies|Tower Damage|Hero Healing|In Battle %|Damage %|Gold %|MVP|\n",
       ":-|:-|:-|:-|:-|:-|:-|:-|:-|:-|\n",
       "58519674|![](http://cdn.dota2.com/apps/dota2/images/heroes/juggernaut_sb.png?raw=true)**lvl 25**|**5.2**(24/7/18)|374/12|8069|22728|77.8%|37.7%|32.8%|1.1|\n",
       "160999411|![](http://cdn.dota2.com/apps/dota2/images/heroes/dark_willow_sb.png?raw=true)**lvl 25**|**3.2**(11/12/30)|49/2|1319|0|75.9%|17.0%|16.5%|1.0|\n",
       "119448368|![](http://cdn.dota2.com/apps/dota2/images/heroes/pudge_sb.png?raw=true)**lvl 22**|**2.5**(4/10/24)|23/0|838|1682|51.9%|10.7%|12.8%|0.8|\n",
       "89702175|![](http://cdn.dota2.com/apps/dota2/images/heroes/undying_sb.png?raw=true)**lvl 25**|**1.9**(5/18/31)|96/1|808|1282|66.7%|12.1%|12.4%|1.0|\n",
       "205436003|![](http://cdn.dota2.com/apps/dota2/images/heroes/obsidian_destroyer_sb.png?raw=true)**lvl 25**|**4.4**(10/7/25)|343/18|3438|0|64.8%|22.5%|25.6%|0.9|\n"
      ],
      "text/plain": [
       "<IPython.core.display.Markdown object>"
      ]
     },
     "metadata": {},
     "output_type": "display_data"
    }
   ],
   "source": [
    "def show_match(data):\n",
    "    cols = 'Players|Heroes|KDA|Last Hits/Denies|Tower Damage|Hero Healing|In Battle %|Damage %|Gold %|MVP|\\n'\\\n",
    "           ':-|:-|:-|:-|:-|:-|:-|:-|:-|:-|\\n'\n",
    "    fmat = '%s|%s**lvl %d**|**%.1f**(%d/%d/%d)|%d/%d|%d|%d|%.1f%%|%.1f%%|%.1f%%|%.1f|\\n'\n",
    "    if (data['radiant_win']):\n",
    "        radiant_res = ' (Victory)'\n",
    "        dire_res = ''\n",
    "    else:\n",
    "        radiant_res = ''\n",
    "        dire_res = ' (Victory)'\n",
    "    md = '## Match Detail\\n\\n'\n",
    "    md += '- MatchID: %s\\n'%data['match_id']\n",
    "    md += '- Start Time: %s\\n'%\\\n",
    "            (datetime.datetime.fromtimestamp(int(data['start_time'])).strftime('%Y-%m-%d %H:%M:%S'))\n",
    "    md += '- Duration: %d min\\n'%(int(data['duration'])//60)\n",
    "    md += '***\\n'\n",
    "    md += '### Radiant%s\\n\\n'%radiant_res\n",
    "    md += cols\n",
    "    cnt = 0\n",
    "    for player in data['players']:\n",
    "        md += fmat%(player['account_id'], \\\n",
    "                    get_png_md(heroes[heroid2idx[player['hero_id']]]['portrait_url']), \\\n",
    "                    player['level'], \\\n",
    "                    player['KDA'], \\\n",
    "                    player['kills'], \\\n",
    "                    player['deaths'], \\\n",
    "                    player['assists'], \\\n",
    "                    player['last_hits'], \\\n",
    "                    player['denies'], \\\n",
    "                    player['tower_damage'], \\\n",
    "                    player['hero_healing'], \\\n",
    "                    player['in_battle_per'], \\\n",
    "                    player['hero_damage_per'], \\\n",
    "                    player['gold_per'], \\\n",
    "                    player['hero_damage_per']/player['gold_per'])\n",
    "        cnt += 1\n",
    "        if (cnt == 5):\n",
    "            md += '***\\n### Dire%s\\n\\n'%dire_res\n",
    "            md += cols\n",
    "    return md\n",
    "printmd(show_match(processed_match))"
   ]
  },
  {
   "cell_type": "markdown",
   "metadata": {},
   "source": [
    "## Match Detail\n",
    "\n",
    "- MatchID: 3777836789\n",
    "- Start Time: 2018-03-12 15:21:34\n",
    "- Duration: 54 min\n",
    "***\n",
    "### Radiant\n",
    "\n",
    "Players|Heroes|KDA|Last Hits/Denies|Tower Damage|Hero Healing|In Battle %|Damage %|Gold %|MVP|\n",
    ":-|:-|:-|:-|:-|:-|:-|:-|:-|:-|\n",
    "136383633|![](http://cdn.dota2.com/apps/dota2/images/heroes/phantom_assassin_sb.png?raw=true)**lvl 25**|**5.0**(29/8/16)|520/18|4803|0|83.3%|37.6%|38.1%|1.0|\n",
    "141393206|![](http://cdn.dota2.com/apps/dota2/images/heroes/bristleback_sb.png?raw=true)**lvl 25**|**1.9**(11/13/16)|268/12|396|0|50.0%|18.3%|21.7%|0.8|\n",
    "142099634|![](http://cdn.dota2.com/apps/dota2/images/heroes/vengefulspirit_sb.png?raw=true)**lvl 24**|**2.3**(2/11/26)|53/7|188|0|51.9%|8.7%|12.0%|0.7|\n",
    "134202447|![](http://cdn.dota2.com/apps/dota2/images/heroes/zuus_sb.png?raw=true)**lvl 25**|**3.4**(9/10/28)|174/4|250|80|68.5%|30.5%|13.4%|2.3|\n",
    "136312013|![](http://cdn.dota2.com/apps/dota2/images/heroes/legion_commander_sb.png?raw=true)**lvl 23**|**0.9**(3/13/10)|249/9|569|924|24.1%|4.9%|14.8%|0.3|\n",
    "***\n",
    "### Dire (Victory)\n",
    "\n",
    "Players|Heroes|KDA|Last Hits/Denies|Tower Damage|Hero Healing|In Battle %|Damage %|Gold %|MVP|\n",
    ":-|:-|:-|:-|:-|:-|:-|:-|:-|:-|\n",
    "58519674|![](http://cdn.dota2.com/apps/dota2/images/heroes/juggernaut_sb.png?raw=true)**lvl 25**|**5.2**(24/7/18)|374/12|8069|22728|77.8%|37.7%|32.8%|1.1|\n",
    "160999411|![](http://cdn.dota2.com/apps/dota2/images/heroes/dark_willow_sb.png?raw=true)**lvl 25**|**3.2**(11/12/30)|49/2|1319|0|75.9%|17.0%|16.5%|1.0|\n",
    "119448368|![](http://cdn.dota2.com/apps/dota2/images/heroes/pudge_sb.png?raw=true)**lvl 22**|**2.5**(4/10/24)|23/0|838|1682|51.9%|10.7%|12.8%|0.8|\n",
    "89702175|![](http://cdn.dota2.com/apps/dota2/images/heroes/undying_sb.png?raw=true)**lvl 25**|**1.9**(5/18/31)|96/1|808|1282|66.7%|12.1%|12.4%|1.0|\n",
    "205436003|![](http://cdn.dota2.com/apps/dota2/images/heroes/obsidian_destroyer_sb.png?raw=true)**lvl 25**|**4.4**(10/7/25)|343/18|3438|0|64.8%|22.5%|25.6%|0.9|"
   ]
  },
  {
   "cell_type": "markdown",
   "metadata": {},
   "source": [
    "## Analyze a player: Favourite Heroes"
   ]
  },
  {
   "cell_type": "markdown",
   "metadata": {
    "collapsed": true
   },
   "source": [
    "### Data Collection and processing\n",
    "In this part, we will focus on analyzing a player from his recent matches. First of all, we need to process each recent match individually and collect all processed data. `get_all_match_history_detail` will read in a player's match history and then return the list of all match details.\n",
    "\n",
    "It may take approximated 3 minutes to process 500 matches. "
   ]
  },
  {
   "cell_type": "code",
   "execution_count": 30,
   "metadata": {
    "collapsed": true
   },
   "outputs": [],
   "source": [
    "def get_all_match_history_detail(hist, api_key):\n",
    "    hist_details = []\n",
    "    for i in tqdm(range(len(hist))):\n",
    "        match = hist[i]\n",
    "        hist_details += [process_match(get_match_details(match['match_id'], api_key))]\n",
    "    return hist_details"
   ]
  },
  {
   "cell_type": "code",
   "execution_count": 31,
   "metadata": {
    "collapsed": true
   },
   "outputs": [],
   "source": [
    "my_hist = get_all_match_history(my_account_id, api_key, game_mode = 1)"
   ]
  },
  {
   "cell_type": "code",
   "execution_count": 33,
   "metadata": {},
   "outputs": [
    {
     "name": "stderr",
     "output_type": "stream",
     "text": [
      "100%|██████████| 500/500 [03:27<00:00,  2.41it/s]\n"
     ]
    }
   ],
   "source": [
    "my_hist_detail = get_all_match_history_detail(my_hist, api_key)"
   ]
  },
  {
   "cell_type": "markdown",
   "metadata": {},
   "source": [
    "Using the detailed match history, we want to find a player's most favourite heroes and their average performance. In function `fav_heroes`, we will calculated the following data:\n",
    "\n",
    "- How many times this player had played this hero\n",
    "- Winning rate\n",
    "- Average Kills/Deaths/Assists\n",
    "- Average KDA\n",
    "- Average amount of gold earned per minute\n",
    "- Average amount of experience earned per minute\n",
    "- Average MVP value (Gold to Damage Ability)"
   ]
  },
  {
   "cell_type": "code",
   "execution_count": 59,
   "metadata": {},
   "outputs": [
    {
     "name": "stdout",
     "output_type": "stream",
     "text": [
      "Anti-Mage:5\n",
      "Axe:5\n",
      "Bloodseeker:8\n",
      "Crystal Maiden:3\n"
     ]
    }
   ],
   "source": [
    "def fav_heroes(hist_detail, account_id):\n",
    "    counter = {}\n",
    "    for hero in heroes:\n",
    "        #cnt, win, kill, death, assist, kda\n",
    "        counter[hero['id']] = {'cnt' : 0, \\\n",
    "                               'win' : 0, \\\n",
    "                               'kills' : 0, \\\n",
    "                               'deaths' : 0, \\\n",
    "                               'assists' : 0, \\\n",
    "                               'KDA' : 0.0, \\\n",
    "                               'GPM' : 0, \\\n",
    "                               'XPM' : 0, \\\n",
    "                               'MVP' : 0.0}\n",
    "    for match_detail in hist_detail:\n",
    "        for player in match_detail['players']:\n",
    "            if (str(player['account_id']) == str(account_id)):\n",
    "                counter[player['hero_id']]['cnt'] += 1\n",
    "                counter[player['hero_id']]['win'] += player['camp'] ^ match_detail['radiant_win']\n",
    "                counter[player['hero_id']]['kills'] += player['kills']\n",
    "                counter[player['hero_id']]['deaths'] += player['deaths']\n",
    "                counter[player['hero_id']]['assists'] += player['assists']\n",
    "                counter[player['hero_id']]['KDA'] += player['KDA']\n",
    "                counter[player['hero_id']]['GPM'] += player['gold_per_min']\n",
    "                counter[player['hero_id']]['XPM'] += player['xp_per_min']\n",
    "                counter[player['hero_id']]['MVP'] += player['hero_damage_per']*1.0/player['gold_per']\n",
    "    return counter\n",
    "counter = fav_heroes(my_hist_detail, my_account_id)\n",
    "flag = 0\n",
    "for hero in heroes:\n",
    "    if (counter[hero['id']]['cnt'] != 0):\n",
    "        flag += 1\n",
    "        print(\"%s:%d\"%(hero['localized_name'], counter[hero['id']]['cnt']))\n",
    "        if (flag > 3): break"
   ]
  },
  {
   "cell_type": "markdown",
   "metadata": {},
   "source": [
    "### Visualization\n",
    "similarly, we will use Markdown table to visualize the most favourite heroes list. `show_fav_list` would generate the markdown script to visualize the list."
   ]
  },
  {
   "cell_type": "code",
   "execution_count": 60,
   "metadata": {},
   "outputs": [
    {
     "data": {
      "text/markdown": [
       "### Most Played Heroes\n",
       "\n",
       "Heroes|Match Played|Win Rate|KDA(K/D/A)|Avg. KDA|Avg. GPM|Avg. XPM|Avg. MVP|\n",
       ":-|:-|:-|:-|:-|:-|:-|\n",
       "![](http://cdn.dota2.com/apps/dota2/images/heroes/juggernaut_sb.png?raw=true)|34|64.7%|**5.2**(10.6/4.5/12.6)|5.7|579.0|596.6|0.9|\n",
       "![](http://cdn.dota2.com/apps/dota2/images/heroes/mirana_sb.png?raw=true)|26|65.4%|**5.0**(8.9/4.7/14.8)|5.8|485.2|505.8|0.8|\n",
       "![](http://cdn.dota2.com/apps/dota2/images/heroes/pudge_sb.png?raw=true)|22|68.2%|**3.0**(6.0/7.5/16.4)|2.9|395.7|476.2|0.9|\n",
       "![](http://cdn.dota2.com/apps/dota2/images/heroes/nevermore_sb.png?raw=true)|21|81.0%|**4.8**(9.7/4.1/10.5)|7.0|595.9|600.0|1.0|\n",
       "![](http://cdn.dota2.com/apps/dota2/images/heroes/rubick_sb.png?raw=true)|18|38.9%|**2.4**(2.9/6.6/12.9)|3.1|326.4|331.8|1.0|\n",
       "![](http://cdn.dota2.com/apps/dota2/images/heroes/luna_sb.png?raw=true)|17|58.8%|**3.7**(7.3/5.5/13.4)|4.0|589.1|568.4|0.9|\n",
       "![](http://cdn.dota2.com/apps/dota2/images/heroes/legion_commander_sb.png?raw=true)|16|68.8%|**3.4**(7.6/5.4/10.8)|3.5|458.2|499.0|0.7|\n",
       "![](http://cdn.dota2.com/apps/dota2/images/heroes/life_stealer_sb.png?raw=true)|14|64.3%|**4.9**(10.9/4.8/13.1)|5.1|549.4|572.6|0.9|\n",
       "![](http://cdn.dota2.com/apps/dota2/images/heroes/ursa_sb.png?raw=true)|14|50.0%|**3.9**(13.6/6.9/13.7)|5.6|518.0|554.2|1.1|\n",
       "![](http://cdn.dota2.com/apps/dota2/images/heroes/slark_sb.png?raw=true)|14|57.1%|**4.3**(9.4/4.6/10.9)|4.5|502.0|542.4|0.9|\n"
      ],
      "text/plain": [
       "<IPython.core.display.Markdown object>"
      ]
     },
     "metadata": {},
     "output_type": "display_data"
    }
   ],
   "source": [
    "def show_fav_list(counter, topN = 10):\n",
    "    fav_list = sorted(counter.items(), key=lambda x:-x[1]['cnt'])\n",
    "    cols = 'Heroes|Match Played|Win Rate|KDA(K/D/A)|Avg. KDA|Avg. GPM|Avg. XPM|Avg. MVP|\\n'\\\n",
    "           ':-|:-|:-|:-|:-|:-|:-|\\n'\n",
    "    fmat = '%s|%d|%.1f%%|**%.1f**(%.1f/%.1f/%.1f)|%.1f|%.1f|%.1f|%.1f|\\n'\n",
    "    if (topN > len(counter)):\n",
    "        topN = len(counter)\n",
    "    md = ''\n",
    "    md += '### Most Played Heroes\\n\\n'\n",
    "    md += cols\n",
    "    for idx in range(topN):\n",
    "        md += fmat%(get_png_md(heroes[heroid2idx[fav_list[idx][0]]]['portrait_url']), \\\n",
    "                    fav_list[idx][1]['cnt'], \\\n",
    "                    fav_list[idx][1]['win']/(fav_list[idx][1]['cnt']*1.0)*100.0, \\\n",
    "                    (fav_list[idx][1]['kills']+fav_list[idx][1]['assists'])/(fav_list[idx][1]['deaths']+1.0), \\\n",
    "                    fav_list[idx][1]['kills']/(fav_list[idx][1]['cnt']*1.0), \\\n",
    "                    fav_list[idx][1]['deaths']/(fav_list[idx][1]['cnt']*1.0), \\\n",
    "                    fav_list[idx][1]['assists']/(fav_list[idx][1]['cnt']*1.0), \\\n",
    "                    fav_list[idx][1]['KDA']/(fav_list[idx][1]['cnt']*1.0), \\\n",
    "                    fav_list[idx][1]['GPM']/(fav_list[idx][1]['cnt']*1.0), \\\n",
    "                    fav_list[idx][1]['XPM']/(fav_list[idx][1]['cnt']*1.0), \\\n",
    "                    fav_list[idx][1]['MVP']/(fav_list[idx][1]['cnt']*1.0))\n",
    "    return md\n",
    "printmd(show_fav_list(counter))"
   ]
  },
  {
   "cell_type": "markdown",
   "metadata": {},
   "source": [
    "### Most Played Heroes\n",
    "\n",
    "Heroes|Match Played|Win Rate|KDA(K/D/A)|Avg. KDA|Avg. GPM|Avg. XPM|\n",
    ":-|:-|:-|:-|:-|:-|:-|\n",
    "![](http://cdn.dota2.com/apps/dota2/images/heroes/juggernaut_sb.png?raw=true)|34|64.7%|**5.2**(10.6/4.5/12.6)|5.7|579.0|596.6|\n",
    "![](http://cdn.dota2.com/apps/dota2/images/heroes/mirana_sb.png?raw=true)|26|65.4%|**5.0**(8.9/4.7/14.8)|5.8|485.2|505.8|\n",
    "![](http://cdn.dota2.com/apps/dota2/images/heroes/pudge_sb.png?raw=true)|22|68.2%|**3.0**(6.0/7.5/16.4)|2.9|395.7|476.2|\n",
    "![](http://cdn.dota2.com/apps/dota2/images/heroes/nevermore_sb.png?raw=true)|21|81.0%|**4.8**(9.7/4.1/10.5)|7.0|595.9|600.0|\n",
    "![](http://cdn.dota2.com/apps/dota2/images/heroes/rubick_sb.png?raw=true)|18|38.9%|**2.4**(2.9/6.6/12.9)|3.1|326.4|331.8|\n",
    "![](http://cdn.dota2.com/apps/dota2/images/heroes/luna_sb.png?raw=true)|17|58.8%|**3.7**(7.3/5.5/13.4)|4.0|589.1|568.4|\n",
    "![](http://cdn.dota2.com/apps/dota2/images/heroes/legion_commander_sb.png?raw=true)|16|68.8%|**3.4**(7.6/5.4/10.8)|3.5|458.2|499.0|\n",
    "![](http://cdn.dota2.com/apps/dota2/images/heroes/life_stealer_sb.png?raw=true)|14|64.3%|**4.9**(10.9/4.8/13.1)|5.1|549.4|572.6|\n",
    "![](http://cdn.dota2.com/apps/dota2/images/heroes/ursa_sb.png?raw=true)|14|50.0%|**3.9**(13.6/6.9/13.7)|5.6|518.0|554.2|\n",
    "![](http://cdn.dota2.com/apps/dota2/images/heroes/slark_sb.png?raw=true)|14|57.1%|**4.3**(9.4/4.6/10.9)|4.5|502.0|542.4|\n",
    "\n",
    "<IPython.core.display.Markdown object>"
   ]
  },
  {
   "cell_type": "markdown",
   "metadata": {},
   "source": [
    "## Summary and references\n",
    "\n",
    "This tutorial introduced the Valve Dota 2 API and some methods to analyze these data. With basic calculation and visulization, we could make the data much more readable to users. \n",
    "\n",
    "Also, there are many design in this tutorial could be improved (remove factor of hero differences from player evaluation, etc.). Much more detail about Dota 2 APIs and data analyzing from following links.\n",
    "\n",
    "1.Dota 2 API: https://wiki.teamfortress.com/wiki/WebAPI#Dota_2\n",
    "\n",
    "2.Dotamax: http://www.dotamax.com/home/\n",
    "\n",
    "3.Dota Plus: https://www.dota2.com/plus"
   ]
  }
 ],
 "metadata": {
  "kernelspec": {
   "display_name": "Python 3",
   "language": "python",
   "name": "python3"
  },
  "language_info": {
   "codemirror_mode": {
    "name": "ipython",
    "version": 3
   },
   "file_extension": ".py",
   "mimetype": "text/x-python",
   "name": "python",
   "nbconvert_exporter": "python",
   "pygments_lexer": "ipython3",
   "version": "3.6.3"
  }
 },
 "nbformat": 4,
 "nbformat_minor": 2
}
